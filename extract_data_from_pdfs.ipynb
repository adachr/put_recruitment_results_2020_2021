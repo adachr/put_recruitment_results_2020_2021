{
 "cells": [
  {
   "cell_type": "code",
   "execution_count": 2,
   "metadata": {},
   "outputs": [],
   "source": [
    "from tabula import read_pdf\n",
    "import tabula\n",
    "import os, glob, re\n",
    "import pandas as pd\n",
    "import numpy as np\n",
    "\n",
    "pd.set_option('display.max_rows', 300)"
   ]
  },
  {
   "cell_type": "markdown",
   "metadata": {},
   "source": [
    "### Ścieżki"
   ]
  },
  {
   "cell_type": "code",
   "execution_count": 49,
   "metadata": {},
   "outputs": [],
   "source": [
    "FIRST_1 = os.path.join(os.getcwd(), \"1st/1_round/\")\n",
    "FIRST_2 = os.path.join(os.getcwd(), \"1st/2_round/\")\n",
    "SECOND_1 = os.path.join(os.getcwd(), \"2nd/1_round/\")\n",
    "\n",
    "paths = [FIRST_1, FIRST_2, SECOND_1]"
   ]
  },
  {
   "cell_type": "code",
   "execution_count": 50,
   "metadata": {},
   "outputs": [],
   "source": [
    "def organize_columns(df):\n",
    "    df = df.drop(['lp.', 'Decyzja'], axis=1)\n",
    "    df['Liczba punktów'] = df['Liczba punktów'].replace(',','.', regex=True).astype(float)\n",
    "    \n",
    "    return df"
   ]
  },
  {
   "cell_type": "code",
   "execution_count": 51,
   "metadata": {},
   "outputs": [],
   "source": [
    "def extract_sex(str_in: str):\n",
    "    return \"K\" if re.search(\"a$\", str_in) else \"M\""
   ]
  },
  {
   "cell_type": "code",
   "execution_count": 52,
   "metadata": {},
   "outputs": [],
   "source": [
    "def extract_paragraph(str_in: str):\n",
    "    if re.search(\"\\*{2}$\", str_in):\n",
    "        return str_in[:-2], 2\n",
    "    elif re.search(\"\\*$\", str_in):\n",
    "        return str_in[:-2], 1\n",
    "    else: \n",
    "        return str_in, 0"
   ]
  },
  {
   "cell_type": "markdown",
   "metadata": {},
   "source": [
    "### Ekstrakcja"
   ]
  },
  {
   "cell_type": "code",
   "execution_count": 53,
   "metadata": {},
   "outputs": [],
   "source": [
    "frames = []\n",
    "for path in paths:\n",
    "    for filename in glob.glob(os.path.join(path, '*.pdf')):\n",
    "        info = re.search('Z_\\d{3}_([A-Za-z]+_[A-Za-z_-]+[^_\\d])', filename, re.IGNORECASE).group(1)\n",
    "        department, course = info.split('_', 1)\n",
    "        data = read_pdf(filename, pages='all', multiple_tables=False, lattice=True, silent=True)\n",
    "        df = pd.DataFrame(data[0])\n",
    "        df = organize_columns(df)\n",
    "\n",
    "        df['Wydział'] = department\n",
    "        df['Kierunek'] = course\n",
    "        \n",
    "        if path == FIRST_1:\n",
    "            df['Stopień'] = 1\n",
    "            df['nabór'] = 1\n",
    "        elif path == FIRST_2:\n",
    "            df['Stopień'] = 1\n",
    "            df['nabór'] = 2\n",
    "        else:\n",
    "            df['Stopień'] = 2\n",
    "            df['nabór'] = 1\n",
    "        \n",
    "        df['Płeć'] = df['Imię'].map(extract_sex)\n",
    "        df['Nazwisko'], df['Paragraf'] = zip(*df['Nazwisko'].map(extract_paragraph))\n",
    "        \n",
    "        frames.append(df)\n",
    "    \n",
    "main_df = pd.concat(frames)\n",
    "main_df.to_csv(os.path.join(os.getcwd(), 'main.csv'), index=False, encoding=\"utf-8-sig\")"
   ]
  },
  {
   "cell_type": "markdown",
   "metadata": {},
   "source": [
    "### Przykład"
   ]
  },
  {
   "cell_type": "code",
   "execution_count": 54,
   "metadata": {},
   "outputs": [
    {
     "data": {
      "text/html": [
       "<div>\n",
       "<style scoped>\n",
       "    .dataframe tbody tr th:only-of-type {\n",
       "        vertical-align: middle;\n",
       "    }\n",
       "\n",
       "    .dataframe tbody tr th {\n",
       "        vertical-align: top;\n",
       "    }\n",
       "\n",
       "    .dataframe thead th {\n",
       "        text-align: right;\n",
       "    }\n",
       "</style>\n",
       "<table border=\"1\" class=\"dataframe\">\n",
       "  <thead>\n",
       "    <tr style=\"text-align: right;\">\n",
       "      <th></th>\n",
       "      <th>lp.</th>\n",
       "      <th>Nazwisko</th>\n",
       "      <th>Imię</th>\n",
       "      <th>Drugie imię</th>\n",
       "      <th>Liczba punktów</th>\n",
       "      <th>Decyzja</th>\n",
       "    </tr>\n",
       "  </thead>\n",
       "  <tbody>\n",
       "    <tr>\n",
       "      <th>0</th>\n",
       "      <td>1</td>\n",
       "      <td>Cieluba**</td>\n",
       "      <td>Jan</td>\n",
       "      <td>NaN</td>\n",
       "      <td>65</td>\n",
       "      <td>Przyjęty</td>\n",
       "    </tr>\n",
       "    <tr>\n",
       "      <th>1</th>\n",
       "      <td>2</td>\n",
       "      <td>Poniatowska</td>\n",
       "      <td>Paulina</td>\n",
       "      <td>Ewa</td>\n",
       "      <td>51</td>\n",
       "      <td>Przyjęty</td>\n",
       "    </tr>\n",
       "    <tr>\n",
       "      <th>2</th>\n",
       "      <td>3</td>\n",
       "      <td>Rynkiewicz</td>\n",
       "      <td>Adam</td>\n",
       "      <td>Aron</td>\n",
       "      <td>74</td>\n",
       "      <td>Przyjęty</td>\n",
       "    </tr>\n",
       "    <tr>\n",
       "      <th>3</th>\n",
       "      <td>4</td>\n",
       "      <td>Samsel</td>\n",
       "      <td>Barbara</td>\n",
       "      <td>NaN</td>\n",
       "      <td>89</td>\n",
       "      <td>Przyjęty</td>\n",
       "    </tr>\n",
       "  </tbody>\n",
       "</table>\n",
       "</div>"
      ],
      "text/plain": [
       "   lp.     Nazwisko     Imię Drugie imię  Liczba punktów   Decyzja\n",
       "0    1    Cieluba**      Jan         NaN              65  Przyjęty\n",
       "1    2  Poniatowska  Paulina         Ewa              51  Przyjęty\n",
       "2    3   Rynkiewicz     Adam        Aron              74  Przyjęty\n",
       "3    4       Samsel  Barbara         NaN              89  Przyjęty"
      ]
     },
     "execution_count": 54,
     "metadata": {},
     "output_type": "execute_result"
    }
   ],
   "source": [
    "data = read_pdf(SECOND_1+\"lista_przyjetych_2020-2021_Z_122_WIiT_Bioinformatyka_20200903.pdf\"\n",
    "                , pages='all', multiple_tables=False, lattice=True, silent=True)\n",
    "df = pd.DataFrame(data[0])\n",
    "df"
   ]
  },
  {
   "cell_type": "code",
   "execution_count": null,
   "metadata": {},
   "outputs": [],
   "source": []
  }
 ],
 "metadata": {
  "kernelspec": {
   "display_name": "pp_recruitment",
   "language": "python",
   "name": "pp_recruitment"
  },
  "language_info": {
   "codemirror_mode": {
    "name": "ipython",
    "version": 3
   },
   "file_extension": ".py",
   "mimetype": "text/x-python",
   "name": "python",
   "nbconvert_exporter": "python",
   "pygments_lexer": "ipython3",
   "version": "3.7.6"
  }
 },
 "nbformat": 4,
 "nbformat_minor": 2
}
